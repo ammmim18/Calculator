{
 "cells": [
  {
   "cell_type": "markdown",
   "id": "d07d9544-77fb-4ab2-ac4e-6641f4375e95",
   "metadata": {},
   "source": [
    "Variable"
   ]
  },
  {
   "cell_type": "code",
   "execution_count": 2,
   "id": "fa1ab642-c7f3-4e26-89c4-73e1c74c9ab8",
   "metadata": {},
   "outputs": [],
   "source": [
    "a = 50"
   ]
  },
  {
   "cell_type": "code",
   "execution_count": 10,
   "id": "37ee7400-a6dc-4015-b986-9a1964e14a92",
   "metadata": {},
   "outputs": [
    {
     "data": {
      "text/plain": [
       "int"
      ]
     },
     "execution_count": 10,
     "metadata": {},
     "output_type": "execute_result"
    }
   ],
   "source": [
    "type(a)"
   ]
  },
  {
   "cell_type": "code",
   "execution_count": 3,
   "id": "f956447f-b00e-4e9f-be02-2d5c4394b862",
   "metadata": {},
   "outputs": [],
   "source": [
    "b = 20"
   ]
  },
  {
   "cell_type": "markdown",
   "id": "5ff3112c-8cb4-4aae-bfa5-69c3fa443f73",
   "metadata": {},
   "source": [
    "It can`t be Stated with a number as a variable name"
   ]
  },
  {
   "cell_type": "code",
   "execution_count": 8,
   "id": "fe1dd33e-3b1e-41de-ab3d-651f05cadf09",
   "metadata": {},
   "outputs": [
    {
     "ename": "SyntaxError",
     "evalue": "cannot assign to literal here. Maybe you meant '==' instead of '='? (522435882.py, line 1)",
     "output_type": "error",
     "traceback": [
      "\u001b[1;36m  Cell \u001b[1;32mIn[8], line 1\u001b[1;36m\u001b[0m\n\u001b[1;33m    1 = 20\u001b[0m\n\u001b[1;37m    ^\u001b[0m\n\u001b[1;31mSyntaxError\u001b[0m\u001b[1;31m:\u001b[0m cannot assign to literal here. Maybe you meant '==' instead of '='?\n"
     ]
    }
   ],
   "source": [
    "1 = 20"
   ]
  },
  {
   "cell_type": "markdown",
   "id": "25ae8266-1138-4117-b6bf-72fcad00e245",
   "metadata": {},
   "source": [
    "But it can be stated with a number attached with a latter"
   ]
  },
  {
   "cell_type": "markdown",
   "id": "a1531e96-57ff-42ee-bf6d-c7d4fb535479",
   "metadata": {},
   "source": [
    "Data Types"
   ]
  },
  {
   "cell_type": "markdown",
   "id": "e5e94450-c2e1-4992-8de6-46ce6eeab8d1",
   "metadata": {},
   "source": [
    "1. Integer"
   ]
  },
  {
   "cell_type": "code",
   "execution_count": 7,
   "id": "23322490-ba7f-4a5d-af6f-8d6ab93251d3",
   "metadata": {},
   "outputs": [],
   "source": [
    "a1 = 52"
   ]
  },
  {
   "cell_type": "code",
   "execution_count": 9,
   "id": "3dc43d67-c599-4fcb-94ab-b3093616089f",
   "metadata": {},
   "outputs": [
    {
     "data": {
      "text/plain": [
       "int"
      ]
     },
     "execution_count": 9,
     "metadata": {},
     "output_type": "execute_result"
    }
   ],
   "source": [
    "type (a1)"
   ]
  },
  {
   "cell_type": "code",
   "execution_count": 20,
   "id": "c5ca460c-3d91-4843-8b8d-8faf5570cc8d",
   "metadata": {},
   "outputs": [],
   "source": [
    "num1 = 50 \n",
    "num2 = 40\n",
    "num3 = 30 \n",
    "num4 = \"mohit\""
   ]
  },
  {
   "cell_type": "code",
   "execution_count": 13,
   "id": "4aad01cf-ffde-4ee1-8065-72350dcf0b15",
   "metadata": {},
   "outputs": [
    {
     "data": {
      "text/plain": [
       "140733639607368"
      ]
     },
     "execution_count": 13,
     "metadata": {},
     "output_type": "execute_result"
    }
   ],
   "source": [
    "id(num1)"
   ]
  },
  {
   "cell_type": "code",
   "execution_count": 21,
   "id": "3ce936ec-ff5d-4112-9c46-33552c5eeda6",
   "metadata": {},
   "outputs": [
    {
     "data": {
      "text/plain": [
       "140733639608328"
      ]
     },
     "execution_count": 21,
     "metadata": {},
     "output_type": "execute_result"
    }
   ],
   "source": [
    "id(num2)"
   ]
  },
  {
   "cell_type": "code",
   "execution_count": 15,
   "id": "ca5e32da-1f68-4a01-b12d-c9adf16a3774",
   "metadata": {},
   "outputs": [
    {
     "data": {
      "text/plain": [
       "140733639608008"
      ]
     },
     "execution_count": 15,
     "metadata": {},
     "output_type": "execute_result"
    }
   ],
   "source": [
    "id(num3)"
   ]
  },
  {
   "cell_type": "code",
   "execution_count": 16,
   "id": "ee10493b-01bf-44e8-a5bb-b61130a1aebd",
   "metadata": {},
   "outputs": [
    {
     "data": {
      "text/plain": [
       "2293552292528"
      ]
     },
     "execution_count": 16,
     "metadata": {},
     "output_type": "execute_result"
    }
   ],
   "source": [
    "id(num4)"
   ]
  },
  {
   "cell_type": "markdown",
   "id": "2c8bb35a-7db9-43d3-9647-e5a35e0600d9",
   "metadata": {},
   "source": [
    "2.Flaot"
   ]
  },
  {
   "cell_type": "code",
   "execution_count": 22,
   "id": "c83ab6a1-165b-4e1d-8951-a7ff6f1f85d5",
   "metadata": {},
   "outputs": [],
   "source": [
    "d = 20.32"
   ]
  },
  {
   "cell_type": "code",
   "execution_count": 23,
   "id": "4b9e6c68-0113-468e-b168-231eac18d773",
   "metadata": {},
   "outputs": [
    {
     "data": {
      "text/plain": [
       "float"
      ]
     },
     "execution_count": 23,
     "metadata": {},
     "output_type": "execute_result"
    }
   ],
   "source": [
    "type(d)"
   ]
  },
  {
   "cell_type": "markdown",
   "id": "2dd86335-2363-428c-817f-ec3230f77904",
   "metadata": {},
   "source": [
    "3.Complex"
   ]
  },
  {
   "cell_type": "code",
   "execution_count": 1,
   "id": "2714bea4-d7c6-4441-90bc-504123a6d743",
   "metadata": {},
   "outputs": [],
   "source": [
    "f = 5+7j"
   ]
  },
  {
   "cell_type": "code",
   "execution_count": 2,
   "id": "3eb5885c-4574-4ad2-b15b-b9f8bdb95027",
   "metadata": {},
   "outputs": [
    {
     "data": {
      "text/plain": [
       "complex"
      ]
     },
     "execution_count": 2,
     "metadata": {},
     "output_type": "execute_result"
    }
   ],
   "source": [
    "type(f)"
   ]
  },
  {
   "cell_type": "markdown",
   "id": "e5a6bded-9e8a-4313-985d-6966bab89531",
   "metadata": {},
   "source": [
    "3.String (anything with comma cotation)"
   ]
  },
  {
   "cell_type": "code",
   "execution_count": 3,
   "id": "70fe16e3-32c6-4c1a-bc69-b73419adedd1",
   "metadata": {},
   "outputs": [],
   "source": [
    "Mohit = 'Its Ammim Mohit'"
   ]
  },
  {
   "cell_type": "code",
   "execution_count": 4,
   "id": "e967687a-8485-4291-9983-5b98999d432f",
   "metadata": {},
   "outputs": [
    {
     "name": "stdout",
     "output_type": "stream",
     "text": [
      "Its Ammim Mohit\n"
     ]
    }
   ],
   "source": [
    "print (Mohit)"
   ]
  },
  {
   "cell_type": "code",
   "execution_count": 5,
   "id": "8d6e2cb0-b084-43e4-bbd8-68931408a094",
   "metadata": {},
   "outputs": [
    {
     "data": {
      "text/plain": [
       "str"
      ]
     },
     "execution_count": 5,
     "metadata": {},
     "output_type": "execute_result"
    }
   ],
   "source": [
    "type(Mohit)"
   ]
  },
  {
   "cell_type": "markdown",
   "id": "523746e0-cd1a-41ea-b386-bee03a92365b",
   "metadata": {},
   "source": [
    "4.Boolean"
   ]
  },
  {
   "cell_type": "code",
   "execution_count": 6,
   "id": "c4256763-fa9a-43cb-870b-208775e45b23",
   "metadata": {},
   "outputs": [
    {
     "data": {
      "text/plain": [
       "True"
      ]
     },
     "execution_count": 6,
     "metadata": {},
     "output_type": "execute_result"
    }
   ],
   "source": [
    "True"
   ]
  },
  {
   "cell_type": "code",
   "execution_count": 7,
   "id": "7d0dbb0e-a7da-4c85-b586-8611c2776eaa",
   "metadata": {},
   "outputs": [
    {
     "data": {
      "text/plain": [
       "False"
      ]
     },
     "execution_count": 7,
     "metadata": {},
     "output_type": "execute_result"
    }
   ],
   "source": [
    "False"
   ]
  },
  {
   "cell_type": "code",
   "execution_count": 8,
   "id": "71705826-0144-4971-b6c9-5d2543e59b9a",
   "metadata": {},
   "outputs": [
    {
     "data": {
      "text/plain": [
       "2"
      ]
     },
     "execution_count": 8,
     "metadata": {},
     "output_type": "execute_result"
    }
   ],
   "source": [
    "True+True"
   ]
  },
  {
   "cell_type": "code",
   "execution_count": 9,
   "id": "4af42eb2-cd92-40b2-83a4-29aed0b54ef8",
   "metadata": {},
   "outputs": [
    {
     "data": {
      "text/plain": [
       "1"
      ]
     },
     "execution_count": 9,
     "metadata": {},
     "output_type": "execute_result"
    }
   ],
   "source": [
    "True+False"
   ]
  },
  {
   "cell_type": "code",
   "execution_count": 10,
   "id": "b777d765-58e8-4233-a188-592cc09a5a71",
   "metadata": {},
   "outputs": [
    {
     "data": {
      "text/plain": [
       "0"
      ]
     },
     "execution_count": 10,
     "metadata": {},
     "output_type": "execute_result"
    }
   ],
   "source": [
    "False+False"
   ]
  },
  {
   "cell_type": "code",
   "execution_count": null,
   "id": "7ecf0171-25c3-4b2a-8d60-f63b4efacd45",
   "metadata": {},
   "outputs": [],
   "source": []
  }
 ],
 "metadata": {
  "kernelspec": {
   "display_name": "Python 3 (ipykernel)",
   "language": "python",
   "name": "python3"
  },
  "language_info": {
   "codemirror_mode": {
    "name": "ipython",
    "version": 3
   },
   "file_extension": ".py",
   "mimetype": "text/x-python",
   "name": "python",
   "nbconvert_exporter": "python",
   "pygments_lexer": "ipython3",
   "version": "3.11.7"
  }
 },
 "nbformat": 4,
 "nbformat_minor": 5
}
