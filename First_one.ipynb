{
 "cells": [
  {
   "cell_type": "markdown",
   "id": "9ecdad22-8c78-41ab-bf8d-502635cfa59a",
   "metadata": {},
   "source": [
    "The Begining"
   ]
  },
  {
   "cell_type": "code",
   "execution_count": null,
   "id": "b2fa2544-4113-437b-b74a-26d9e1303c5d",
   "metadata": {},
   "outputs": [],
   "source": [
    "print(\"Hello World"
   ]
  },
  {
   "cell_type": "code",
   "execution_count": 1,
   "id": "e8514f89-6ca1-4a55-bcf4-8d64c0c3854c",
   "metadata": {},
   "outputs": [
    {
     "data": {
      "text/plain": [
       "20"
      ]
     },
     "execution_count": 1,
     "metadata": {},
     "output_type": "execute_result"
    }
   ],
   "source": [
    "10+10"
   ]
  },
  {
   "cell_type": "code",
   "execution_count": 3,
   "id": "b8dfde49-f414-4833-b49d-57099ae2ece7",
   "metadata": {},
   "outputs": [
    {
     "name": "stdout",
     "output_type": "stream",
     "text": [
      "mohit\n"
     ]
    }
   ],
   "source": [
    "print(\"mohit\")"
   ]
  },
  {
   "cell_type": "code",
   "execution_count": 1,
   "id": "bb1576b0-c4c7-4812-a9bb-dbc0a90cb6db",
   "metadata": {},
   "outputs": [
    {
     "name": "stdout",
     "output_type": "stream",
     "text": [
      "buri\n"
     ]
    }
   ],
   "source": [
    "print(\"buri\")"
   ]
  },
  {
   "cell_type": "code",
   "execution_count": 5,
   "id": "239c669d-9d8a-463f-83cf-6077f7797fdf",
   "metadata": {},
   "outputs": [
    {
     "data": {
      "text/plain": [
       "3.142857142857143"
      ]
     },
     "execution_count": 5,
     "metadata": {},
     "output_type": "execute_result"
    }
   ],
   "source": [
    "1*22/7\n"
   ]
  },
  {
   "cell_type": "markdown",
   "id": "dc85f287-cc75-434e-ae35-e0ae511a0209",
   "metadata": {},
   "source": [
    "Integer (a type of value that can be stored in a variable)"
   ]
  },
  {
   "cell_type": "code",
   "execution_count": 2,
   "id": "bfccdd00-7a8d-4a7b-b261-00094b46fe3e",
   "metadata": {},
   "outputs": [
    {
     "data": {
      "text/plain": [
       "10"
      ]
     },
     "execution_count": 2,
     "metadata": {},
     "output_type": "execute_result"
    }
   ],
   "source": [
    "10"
   ]
  },
  {
   "cell_type": "code",
   "execution_count": 6,
   "id": "ea877992-0199-44a5-acbc-469326999dfb",
   "metadata": {},
   "outputs": [
    {
     "name": "stdout",
     "output_type": "stream",
     "text": [
      "Deea is not a buri\n"
     ]
    }
   ],
   "source": [
    "a = 9\n",
    "b = 9\n",
    "\n",
    "if a == b:\n",
    "    print(\"Deea is not a buri\")\n",
    "else:\n",
    "    print(\"Deea is a buri\")"
   ]
  },
  {
   "cell_type": "code",
   "execution_count": 7,
   "id": "c3f1b7db-ed32-40d2-bced-9ef00ff41019",
   "metadata": {},
   "outputs": [
    {
     "data": {
      "text/plain": [
       "11"
      ]
     },
     "execution_count": 7,
     "metadata": {},
     "output_type": "execute_result"
    }
   ],
   "source": [
    "5+6"
   ]
  },
  {
   "cell_type": "code",
   "execution_count": null,
   "id": "4aeb7419-1bf8-4de2-a796-d6ef405d0be8",
   "metadata": {},
   "outputs": [
    {
     "name": "stdout",
     "output_type": "stream",
     "text": [
      "The race has started!\n",
      "Toyota has driven 10 km.\n",
      "Toyota has driven 10 km.\n",
      "Honda has driven 12 km.\n",
      "Honda has driven 12 km.\n",
      "Ford has driven 11 km.\n",
      "Ford has driven 11 km.\n",
      "Toyota has driven 10 km.\n",
      "Toyota has driven 20 km.\n",
      "Honda has driven 12 km.\n",
      "Honda has driven 24 km.\n",
      "Ford has driven 11 km.\n",
      "Ford has driven 22 km.\n",
      "Toyota has driven 10 km.\n",
      "Toyota has driven 30 km.\n",
      "Honda has driven 12 km.\n",
      "Honda has driven 36 km.\n",
      "Ford has driven 11 km.\n",
      "Ford has driven 33 km.\n",
      "Toyota has driven 10 km.\n",
      "Toyota has driven 40 km.\n"
     ]
    }
   ],
   "source": [
    "import time\n",
    "import random\n",
    "\n",
    "class Car:\n",
    "    def __init__(self, name, speed):\n",
    "        self.name = name\n",
    "        self.speed = speed\n",
    "        self.distance = 0\n",
    "\n",
    "    def drive(self):\n",
    "        self.distance += self.speed\n",
    "        print(f\"{self.name} has driven {self.speed} km.\")\n",
    "\n",
    "    def __str__(self):\n",
    "        return f\"{self.name} has driven {self.distance} km.\"\n",
    "\n",
    "def race(cars, distance):\n",
    "    while True:\n",
    "        for car in cars:\n",
    "            car.drive()\n",
    "            print(car)\n",
    "            time.sleep(1)  # wait for 1 second\n",
    "            if car.distance >= distance:\n",
    "                print(f\"{car.name} has won the race!\")\n",
    "                return\n",
    "\n",
    "def main():\n",
    "    car1 = Car(\"Toyota\", 10)\n",
    "    car2 = Car(\"Honda\", 12)\n",
    "    car3 = Car(\"Ford\", 11)\n",
    "\n",
    "    cars = [car1, car2, car3]\n",
    "    race_distance = 100\n",
    "\n",
    "    print(\"The race has started!\")\n",
    "    race(cars, race_distance)\n",
    "\n",
    "if __name__ == \"__main__\":\n",
    "    main()"
   ]
  },
  {
   "cell_type": "code",
   "execution_count": null,
   "id": "92669696-4425-4b2b-a5ff-844364e02917",
   "metadata": {},
   "outputs": [],
   "source": []
  }
 ],
 "metadata": {
  "kernelspec": {
   "display_name": "Python 3 (ipykernel)",
   "language": "python",
   "name": "python3"
  },
  "language_info": {
   "codemirror_mode": {
    "name": "ipython",
    "version": 3
   },
   "file_extension": ".py",
   "mimetype": "text/x-python",
   "name": "python",
   "nbconvert_exporter": "python",
   "pygments_lexer": "ipython3",
   "version": "3.11.7"
  }
 },
 "nbformat": 4,
 "nbformat_minor": 5
}
